{
 "cells": [
  {
   "cell_type": "markdown",
   "metadata": {},
   "source": [
    "# Module 12 Challenge\n",
    "## Deliverable 1: Scrape Titles and Preview Text from Mars News"
   ]
  },
  {
   "cell_type": "code",
   "execution_count": 1,
   "metadata": {},
   "outputs": [],
   "source": [
    "# Import Splinter and BeautifulSoup\n",
    "from splinter import Browser\n",
    "from bs4 import BeautifulSoup as soup\n",
    "from webdriver_manager.chrome import ChromeDriverManager\n",
    "import json"
   ]
  },
  {
   "cell_type": "code",
   "execution_count": 2,
   "metadata": {
    "scrolled": true
   },
   "outputs": [],
   "source": [
    "executable_path = {'executable_path': ChromeDriverManager().install()}\n",
    "browser = Browser('chrome', **executable_path, headless=False)"
   ]
  },
  {
   "cell_type": "markdown",
   "metadata": {},
   "source": [
    "### Step 1: Visit the Website\n",
    "\n",
    "1. Use automated browsing to visit the [Mars NASA news site](https://redplanetscience.com). Inspect the page to identify which elements to scrape.\n",
    "\n",
    "      > **Hint** To identify which elements to scrape, you might want to inspect the page by using Chrome DevTools."
   ]
  },
  {
   "cell_type": "code",
   "execution_count": 3,
   "metadata": {},
   "outputs": [],
   "source": [
    "# Visit the Mars NASA news site: https://redplanetscience.com\n",
    "url = \"https://redplanetscience.com/\"\n",
    "browser.visit(url)"
   ]
  },
  {
   "cell_type": "markdown",
   "metadata": {},
   "source": [
    "### Step 2: Scrape the Website\n",
    "\n",
    "Create a Beautiful Soup object and use it to extract text elements from the website."
   ]
  },
  {
   "cell_type": "code",
   "execution_count": 4,
   "metadata": {},
   "outputs": [],
   "source": [
    "# Create a Beautiful Soup object\n",
    "html = browser.html\n",
    "soup = soup(html, \"html.parser\")"
   ]
  },
  {
   "cell_type": "code",
   "execution_count": 5,
   "metadata": {},
   "outputs": [
    {
     "data": {
      "text/plain": [
       "[<div class=\"list_text\">\n",
       " <div class=\"list_date\">February 6, 2023</div>\n",
       " <div class=\"content_title\">NASA's Perseverance Rover Will Peer Beneath Mars' Surface </div>\n",
       " <div class=\"article_teaser_body\">The agency's newest rover will use the first ground-penetrating radar instrument on the Martian surface to help search for signs of past microbial life. </div>\n",
       " </div>,\n",
       " <div class=\"list_text\">\n",
       " <div class=\"list_date\">February 5, 2023</div>\n",
       " <div class=\"content_title\">How NASA's Mars Helicopter Will Reach the Red Planet's Surface</div>\n",
       " <div class=\"article_teaser_body\">The small craft will seek to prove that powered, controlled flight is possible on another planet. But just getting it onto the surface of Mars will take a whole lot of ingenuity.</div>\n",
       " </div>,\n",
       " <div class=\"list_text\">\n",
       " <div class=\"list_date\">February 5, 2023</div>\n",
       " <div class=\"content_title\">Virginia Middle School Student Earns Honor of Naming NASA's Next Mars Rover</div>\n",
       " <div class=\"article_teaser_body\">NASA chose a seventh-grader from Virginia as winner of the agency's \"Name the Rover\" essay contest. Alexander Mather's entry for \"Perseverance\" was voted tops among 28,000 entries. </div>\n",
       " </div>,\n",
       " <div class=\"list_text\">\n",
       " <div class=\"list_date\">January 29, 2023</div>\n",
       " <div class=\"content_title\">NASA's Perseverance Rover Mission Getting in Shape for Launch</div>\n",
       " <div class=\"article_teaser_body\">Stacking spacecraft components on top of each other is one of the final assembly steps before a mission launches to the Red Planet. </div>\n",
       " </div>,\n",
       " <div class=\"list_text\">\n",
       " <div class=\"list_date\">January 27, 2023</div>\n",
       " <div class=\"content_title\">NASA Prepares for Moon and Mars With New Addition to Its Deep Space Network</div>\n",
       " <div class=\"article_teaser_body\">Robotic spacecraft will be able to communicate with the dish using radio waves and lasers.</div>\n",
       " </div>,\n",
       " <div class=\"list_text\">\n",
       " <div class=\"list_date\">January 26, 2023</div>\n",
       " <div class=\"content_title\">NASA, ULA Launch Mars 2020 Perseverance Rover Mission to Red Planet</div>\n",
       " <div class=\"article_teaser_body\">The agency's Mars 2020 mission is on its way. It will land at Jezero Crater in about seven months, on Feb. 18, 2021. </div>\n",
       " </div>,\n",
       " <div class=\"list_text\">\n",
       " <div class=\"list_date\">January 24, 2023</div>\n",
       " <div class=\"content_title\">NASA's Perseverance Rover Will Look at Mars Through These 'Eyes'</div>\n",
       " <div class=\"article_teaser_body\">A pair of zoomable cameras will help scientists and rover drivers with high-resolution color images.</div>\n",
       " </div>,\n",
       " <div class=\"list_text\">\n",
       " <div class=\"list_date\">January 22, 2023</div>\n",
       " <div class=\"content_title\">Screening Soon: 'The Pathfinders' Trains Lens on Mars</div>\n",
       " <div class=\"article_teaser_body\">With the Mars 2020 mission ramping up, the documentary — the first of four about past JPL missions to the Red Planet to be shown at Caltech — tells a gripping backstory.</div>\n",
       " </div>,\n",
       " <div class=\"list_text\">\n",
       " <div class=\"list_date\">January 19, 2023</div>\n",
       " <div class=\"content_title\">NASA's InSight Flexes Its Arm While Its 'Mole' Hits Pause</div>\n",
       " <div class=\"article_teaser_body\">Now that the lander's robotic arm has helped the mole get underground, it will resume science activities that have been on hold.</div>\n",
       " </div>,\n",
       " <div class=\"list_text\">\n",
       " <div class=\"list_date\">January 18, 2023</div>\n",
       " <div class=\"content_title\">NASA's Perseverance Rover Attached to Atlas V Rocket</div>\n",
       " <div class=\"article_teaser_body\">Ready for its launch later in the month, the Mars-bound rover will touch terra firma no more.</div>\n",
       " </div>,\n",
       " <div class=\"list_text\">\n",
       " <div class=\"list_date\">January 16, 2023</div>\n",
       " <div class=\"content_title\">Celebrate Mars Reconnaissance Orbiter's Views From Above</div>\n",
       " <div class=\"article_teaser_body\">Marking its 15th anniversary since launch, one of the oldest spacecraft at the Red Planet has provided glimpses of dust devils, avalanches, and more.</div>\n",
       " </div>,\n",
       " <div class=\"list_text\">\n",
       " <div class=\"list_date\">January 12, 2023</div>\n",
       " <div class=\"content_title\">Two Rovers to Roll on Mars Again: Curiosity and Mars 2020</div>\n",
       " <div class=\"article_teaser_body\">They look like twins. But under the hood, the rover currently exploring the Red Planet and the one launching there this summer have distinct science tools and roles to play.</div>\n",
       " </div>,\n",
       " <div class=\"list_text\">\n",
       " <div class=\"list_date\">January 11, 2023</div>\n",
       " <div class=\"content_title\">New Selfie Shows Curiosity, the Mars Chemist</div>\n",
       " <div class=\"article_teaser_body\">The NASA rover performed a special chemistry experiment at the location captured in its newest self-portrait.</div>\n",
       " </div>,\n",
       " <div class=\"list_text\">\n",
       " <div class=\"list_date\">January 8, 2023</div>\n",
       " <div class=\"content_title\">From JPL's Mailroom to Mars and Beyond</div>\n",
       " <div class=\"article_teaser_body\">Bill Allen has thrived as the mechanical systems design lead for three Mars rover missions, but he got his start as a teenager sorting letters for the NASA center.</div>\n",
       " </div>,\n",
       " <div class=\"list_text\">\n",
       " <div class=\"list_date\">January 6, 2023</div>\n",
       " <div class=\"content_title\">NASA's New Mars Rover Is Ready for Space Lasers</div>\n",
       " <div class=\"article_teaser_body\">Perseverance is one of a few Mars spacecraft carrying laser retroreflectors. The devices could provide new science and safer Mars landings in the future.</div>\n",
       " </div>]"
      ]
     },
     "execution_count": 5,
     "metadata": {},
     "output_type": "execute_result"
    }
   ],
   "source": [
    "# Extract all the text elements\n",
    "text_elements = soup.find_all(\"div\", class_=\"list_text\")\n",
    "text_elements"
   ]
  },
  {
   "cell_type": "markdown",
   "metadata": {},
   "source": [
    "### Step 3: Store the Results\n",
    "\n",
    "Extract the titles and preview text of the news articles that you scraped. Store the scraping results in Python data structures as follows:\n",
    "\n",
    "* Store each title-and-preview pair in a Python dictionary. And, give each dictionary two keys: `title` and `preview`. An example is the following:\n",
    "\n",
    "  ```python\n",
    "  {'title': \"Mars Rover Begins Mission!\", \n",
    "        'preview': \"NASA's Mars Rover begins a multiyear mission to collect data about the little-explored planet.\"}\n",
    "  ```\n",
    "\n",
    "* Store all the dictionaries in a Python list.\n",
    "\n",
    "* Print the list in your notebook."
   ]
  },
  {
   "cell_type": "code",
   "execution_count": 6,
   "metadata": {},
   "outputs": [],
   "source": [
    "# Create an empty list to store the dictionaries\n",
    "blankList = []"
   ]
  },
  {
   "cell_type": "code",
   "execution_count": 7,
   "metadata": {},
   "outputs": [],
   "source": [
    "# Loop through the text elements\n",
    "# Add the dictionary to the list\n",
    "for element in text_elements:\n",
    "    # Extract the title and preview text from the elements\n",
    "    title = element.find('div',class_ = 'content_title').text\n",
    "    preview = element.find('div',class_ = 'article_teaser_body').text\n",
    "    \n",
    "    tp_list = {\n",
    "        \"Title\": title,\n",
    "        \"Preview\": preview\n",
    "    }\n",
    "# Store each title and preview pair in a dictionary    \n",
    "    blankList.append(tp_list)\n",
    "    "
   ]
  },
  {
   "cell_type": "code",
   "execution_count": 8,
   "metadata": {},
   "outputs": [
    {
     "name": "stdout",
     "output_type": "stream",
     "text": [
      "[{'Title': \"NASA's Perseverance Rover Will Peer Beneath Mars' Surface \", 'Preview': \"The agency's newest rover will use the first ground-penetrating radar instrument on the Martian surface to help search for signs of past microbial life. \"}, {'Title': \"How NASA's Mars Helicopter Will Reach the Red Planet's Surface\", 'Preview': 'The small craft will seek to prove that powered, controlled flight is possible on another planet. But just getting it onto the surface of Mars will take a whole lot of ingenuity.'}, {'Title': \"Virginia Middle School Student Earns Honor of Naming NASA's Next Mars Rover\", 'Preview': 'NASA chose a seventh-grader from Virginia as winner of the agency\\'s \"Name the Rover\" essay contest. Alexander Mather\\'s entry for \"Perseverance\" was voted tops among 28,000 entries. '}, {'Title': \"NASA's Perseverance Rover Mission Getting in Shape for Launch\", 'Preview': 'Stacking spacecraft components on top of each other is one of the final assembly steps before a mission launches to the Red Planet. '}, {'Title': 'NASA Prepares for Moon and Mars With New Addition to Its Deep Space Network', 'Preview': 'Robotic spacecraft will be able to communicate with the dish using radio waves and lasers.'}, {'Title': 'NASA, ULA Launch Mars 2020 Perseverance Rover Mission to Red Planet', 'Preview': \"The agency's Mars 2020 mission is on its way. It will land at Jezero Crater in about seven months, on Feb. 18, 2021. \"}, {'Title': \"NASA's Perseverance Rover Will Look at Mars Through These 'Eyes'\", 'Preview': 'A pair of zoomable cameras will help scientists and rover drivers with high-resolution color images.'}, {'Title': \"Screening Soon: 'The Pathfinders' Trains Lens on Mars\", 'Preview': 'With the Mars 2020 mission ramping up, the documentary — the first of four about past JPL missions to the Red Planet to be shown at Caltech — tells a gripping backstory.'}, {'Title': \"NASA's InSight Flexes Its Arm While Its 'Mole' Hits Pause\", 'Preview': \"Now that the lander's robotic arm has helped the mole get underground, it will resume science activities that have been on hold.\"}, {'Title': \"NASA's Perseverance Rover Attached to Atlas V Rocket\", 'Preview': 'Ready for its launch later in the month, the Mars-bound rover will touch terra firma no more.'}, {'Title': \"Celebrate Mars Reconnaissance Orbiter's Views From Above\", 'Preview': 'Marking its 15th anniversary since launch, one of the oldest spacecraft at the Red Planet has provided glimpses of dust devils, avalanches, and more.'}, {'Title': 'Two Rovers to Roll on Mars Again: Curiosity and Mars 2020', 'Preview': 'They look like twins. But under the hood, the rover currently exploring the Red Planet and the one launching there this summer have distinct science tools and roles to play.'}, {'Title': 'New Selfie Shows Curiosity, the Mars Chemist', 'Preview': 'The NASA rover performed a special chemistry experiment at the location captured in its newest self-portrait.'}, {'Title': \"From JPL's Mailroom to Mars and Beyond\", 'Preview': 'Bill Allen has thrived as the mechanical systems design lead for three Mars rover missions, but he got his start as a teenager sorting letters for the NASA center.'}, {'Title': \"NASA's New Mars Rover Is Ready for Space Lasers\", 'Preview': 'Perseverance is one of a few Mars spacecraft carrying laser retroreflectors. The devices could provide new science and safer Mars landings in the future.'}]\n"
     ]
    }
   ],
   "source": [
    "# Print the list to confirm success\n",
    "print(blankList)"
   ]
  },
  {
   "cell_type": "code",
   "execution_count": 9,
   "metadata": {},
   "outputs": [],
   "source": [
    "browser.quit()"
   ]
  },
  {
   "cell_type": "markdown",
   "metadata": {},
   "source": [
    "### (Optional) Step 4: Export the Data\n",
    "\n",
    "Optionally, store the scraped data in a file or database (to ease sharing the data with others). To do so, export the scraped data to either a JSON file or a MongoDB database."
   ]
  },
  {
   "cell_type": "code",
   "execution_count": 10,
   "metadata": {},
   "outputs": [],
   "source": [
    "# Export data to JSON\n",
    "with open(\"data.json\", \"w\") as file:\n",
    "    json.dump(blankList, file)"
   ]
  },
  {
   "cell_type": "code",
   "execution_count": 11,
   "metadata": {},
   "outputs": [],
   "source": [
    "# Export data to MongoDB\n"
   ]
  }
 ],
 "metadata": {
  "kernelspec": {
   "display_name": "base",
   "language": "python",
   "name": "python3"
  },
  "language_info": {
   "codemirror_mode": {
    "name": "ipython",
    "version": 3
   },
   "file_extension": ".py",
   "mimetype": "text/x-python",
   "name": "python",
   "nbconvert_exporter": "python",
   "pygments_lexer": "ipython3",
   "version": "3.9.12"
  },
  "vscode": {
   "interpreter": {
    "hash": "585a938ec471c889bf0cce0aed741a99eaf47ca09c0fa8393793bc5bfe77ba11"
   }
  }
 },
 "nbformat": 4,
 "nbformat_minor": 4
}
